import numpy as np
import pandas as pd
from typing import List, Tuple

class RRFRanker:
    def __init__(self, k: float = 60.0):
        """
        Initialize RRF with constant k
        Args:
            k (float): Constant to prevent division by zero and smooth rankings
        """
        self.k = k
    
    def _calculate_rrf_scores(self, rankings: List[str], total_docs: int) -> np.ndarray:
        """
        Calculate RRF scores for a single ranked list
        Args:
            rankings: List of document IDs in their ranked order
            total_docs: Total number of unique documents
        Returns:
            Array of RRF scores for each document
        """
        # Create a mapping of doc_id to index
        doc_to_idx = {doc_id: idx for idx, doc_id in enumerate(self.all_docs)}
        scores = np.zeros(total_docs)
        
        for rank, doc_id in enumerate(rankings, 1):
            if doc_id in doc_to_idx:  # Only process if doc_id is in our mapping
                scores[doc_to_idx[doc_id]] = 1 / (self.k + rank)
        return scores

    def combine_rankings(self, 
                        supporting_ranks: List[str], 
                        contradicting_ranks: List[str],
                        weights: Tuple[float, float] = (1.0, 1.0)) -> List[str]:
        """
        Combine two ranked lists using RRF
        Args:
            supporting_ranks: Ranked list of document IDs for supporting stance
            contradicting_ranks: Ranked list of document IDs for contradicting stance
            weights: Tuple of (supporting_weight, contradicting_weight)
        Returns:
            Combined and reranked list of document IDs
        """
        # Get all unique documents
        self.all_docs = list(set(supporting_ranks + contradicting_ranks))
        total_docs = len(self.all_docs)
        
        # Calculate RRF scores for each list
        supporting_scores = self._calculate_rrf_scores(supporting_ranks, total_docs)
        contradicting_scores = self._calculate_rrf_scores(contradicting_ranks, total_docs)
        
        # Apply weights and combine scores
        combined_scores = (supporting_scores * weights[0] + 
                         contradicting_scores * weights[1])
        
        # Get indices sorted by combined scores (descending order)
        sorted_indices = np.argsort(-combined_scores)
        
        # Convert back to document IDs
        return [self.all_docs[idx] for idx in sorted_indices]

def process_results(input_path: str, output_path: str):
    """Process the results and create new rankings using RRF"""
    # Read the input CSV
    print(f"Reading input file: {input_path}")
    df = pd.read_csv(input_path)
    
    # Convert string representations of lists to actual lists
    df['support_reranked_docs'] = df['support_reranked_docs'].apply(eval)
    df['contradict_reranked_docs'] = df['contradict_reranked_docs'].apply(eval)
    
    # Initialize RRF ranker
    rrf = RRFRanker()
    
    # Process each row
    results = []
    for _, row in df.iterrows():
        # Combine rankings using RRF
        combined_ranking = rrf.combine_rankings(
            row['support_reranked_docs'],
            row['contradict_reranked_docs']
        )
        
        # Store results
        results.append({
            'claim': row['claim'],
            'topic_id': row['topic_id'],
            'rrf_reranked_docs': combined_ranking
        })
    
    # Create output DataFrame and save
    results_df = pd.DataFrame(results)
    results_df.to_csv(output_path, index=False)
    print(f"Results saved to: {output_path}")
    
    # Print sample results
    print("\nSample results (first 2 claims):")
    for i in range(min(2, len(results_df))):
        print(f"\nClaim {i+1}:")
        print(f"Topic ID: {results_df.iloc[i]['topic_id']}")
        print(f"First 5 reranked docs: {results_df.iloc[i]['rrf_reranked_docs'][:5]}")

def main():
    input_path = "/Users/wentaoma/Documents/646/Final project/results_proposed.csv"
    output_path = "/Users/wentaoma/Documents/646/Final project/rrf_results.csv"
    
    process_results(input_path, output_path)

if __name__ == "__main__":
    main()
